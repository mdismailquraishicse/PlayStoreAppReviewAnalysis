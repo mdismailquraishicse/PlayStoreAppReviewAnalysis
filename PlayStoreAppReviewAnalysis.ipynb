{
 "cells": [
  {
   "cell_type": "markdown",
   "metadata": {
    "id": "vncDsAP0Gaoa"
   },
   "source": [
    "# **Play Store App Review Analysis** "
   ]
  },
  {
   "cell_type": "markdown",
   "metadata": {
    "id": "beRrZCGUAJYm"
   },
   "source": [
    "##### **Project Type**    - EDA\n",
    "##### **Name -** Md Ismail Quraishi"
   ]
  },
  {
   "cell_type": "markdown",
   "metadata": {
    "id": "FJNUwmbgGyua"
   },
   "source": [
    "# **Project Summary -**"
   ]
  },
  {
   "cell_type": "markdown",
   "metadata": {
    "id": "F6v_1wHtG2nS"
   },
   "source": [
    "The Play Store apps data has enormous potential to drive app-making businesses to success. Actionable insights can be drawn for developers to work on and capture the Android market. Each app (row) has values for category, rating, size, and more. Another dataset contains customer reviews of the android apps. Explore and analyse the data to discover key factors responsible for app engagement and success."
   ]
  },
  {
   "cell_type": "markdown",
   "metadata": {
    "id": "w6K7xa23Elo4"
   },
   "source": [
    "# **GitHub Link -**"
   ]
  },
  {
   "cell_type": "markdown",
   "metadata": {
    "id": "h1o69JH3Eqqn"
   },
   "source": [
    "https://github.com/mdismailquraishicse/PlayStoreAppReviewAnalysis"
   ]
  },
  {
   "cell_type": "markdown",
   "metadata": {
    "id": "yQaldy8SH6Dl"
   },
   "source": [
    "# **Problem Statement**\n"
   ]
  },
  {
   "cell_type": "markdown",
   "metadata": {
    "id": "DpeJGUA3kjGy"
   },
   "source": [
    "**Write Problem Statement Here.**"
   ]
  },
  {
   "cell_type": "markdown",
   "metadata": {
    "id": "PH-0ReGfmX4f"
   },
   "source": [
    "#### **Define Your Business Objective?**"
   ]
  },
  {
   "cell_type": "markdown",
   "metadata": {},
   "source": [
    "1. In this project we will analyse this data with different types of features. categorywise, ratingwise, sizewise, genreswise, versionwise etc.\n",
    "2. In Category column we will analyse 'FAMILY', 'GAME', 'TOOLS', 'BUSINESS', 'MEDICAL', 'COMMUNICATIONS'."
   ]
  },
  {
   "cell_type": "markdown",
   "metadata": {
    "id": "HhfV-JJviCcP"
   },
   "source": [
    "## ***1. Know Your Data***"
   ]
  },
  {
   "cell_type": "markdown",
   "metadata": {
    "id": "Y3lxredqlCYt"
   },
   "source": [
    "### Import Libraries"
   ]
  },
  {
   "cell_type": "code",
   "execution_count": 1,
   "metadata": {
    "id": "M8Vqi-pPk-HR"
   },
   "outputs": [],
   "source": [
    "# Import Libraries\n",
    "import numpy as np\n",
    "import pandas as pd\n",
    "import seaborn as sns\n",
    "import matplotlib.pyplot as plt\n",
    "import warnings\n",
    "from datetime import datetime\n",
    "warnings.filterwarnings('ignore')"
   ]
  },
  {
   "cell_type": "markdown",
   "metadata": {
    "id": "3RnN4peoiCZX"
   },
   "source": [
    "### Dataset Loading"
   ]
  },
  {
   "cell_type": "code",
   "execution_count": 2,
   "metadata": {},
   "outputs": [],
   "source": [
    "# paths\n",
    "path_psd = './data/Play Store Data.csv'\n",
    "path_review = './data/User Reviews.csv'\n",
    "\n",
    "# class defination for dataframe\n",
    "class DfClass:\n",
    "    def __init__(self, path):\n",
    "        ''' Takes path of the csv file while creating object '''\n",
    "        # read the file\n",
    "        self.df =pd.read_csv(path)\n",
    "        # calculate and assign null to null_df\n",
    "        self.null_df = self.df.isna().sum().reset_index().rename(columns={'index':'features', 0:'null_count'})\n",
    "        self.null_df['null_pct'] = round(self.null_df['null_count']/len(self.df)*100,2)\n",
    "    # get dataframe\n",
    "    def get_df(self):\n",
    "        ''' returns dataframe '''\n",
    "        return self.df\n",
    "        \n",
    "    def show_info(self):\n",
    "        ''' takes nothing and displays basic informations about the dataframe '''\n",
    "        print('Shape : ',self.df.shape)\n",
    "        print()\n",
    "        print('Duplicate count : ',self.df.duplicated().sum())\n",
    "        print()\n",
    "        print('Columns : ',list(self.df.columns))\n",
    "        print()\n",
    "        print('Info :')\n",
    "        print(self.df.info())\n",
    "\n",
    "    # Missing/null\n",
    "    def null_calculator(self,df):\n",
    "        ''' takes dataframe and returns null details '''\n",
    "        n = len(df)\n",
    "        df = df.isna().sum().reset_index().rename(columns={'index':'features', 0:'null_count'})\n",
    "        df['null_pct'] =round(df['null_count']/n*100,2)\n",
    "        return df\n",
    "    def show_null(self):\n",
    "        ''' displays null details '''\n",
    "        print(self.null_df)\n",
    "\n",
    "    def plot_null(self):\n",
    "        ''' plot bar chart for null values '''\n",
    "        plt.rcParams['figure.figsize']=(14,.25*len(self.null_df))\n",
    "        sns.barplot(self.null_df, x='null_count', y='features')\n",
    "        plt.show()\n",
    "    # Unique\n",
    "    def show_all_unique_count(self):\n",
    "        ''' displays unique values for each column '''\n",
    "        print('Unique values')\n",
    "        print(self.df.nunique())\n",
    "\n",
    "    def get_unique(self,col):\n",
    "        print('Unique count : ', self.df[col].nunique())\n",
    "        return list(self.df[col].unique())\n",
    "\n",
    "\n",
    "# making new object\n",
    "df_obj = DfClass(path_psd)"
   ]
  },
  {
   "cell_type": "code",
   "execution_count": 3,
   "metadata": {
    "id": "4CkvbW_SlZ_R"
   },
   "outputs": [
    {
     "data": {
      "text/html": [
       "<div>\n",
       "<style scoped>\n",
       "    .dataframe tbody tr th:only-of-type {\n",
       "        vertical-align: middle;\n",
       "    }\n",
       "\n",
       "    .dataframe tbody tr th {\n",
       "        vertical-align: top;\n",
       "    }\n",
       "\n",
       "    .dataframe thead th {\n",
       "        text-align: right;\n",
       "    }\n",
       "</style>\n",
       "<table border=\"1\" class=\"dataframe\">\n",
       "  <thead>\n",
       "    <tr style=\"text-align: right;\">\n",
       "      <th></th>\n",
       "      <th>App</th>\n",
       "      <th>Category</th>\n",
       "      <th>Rating</th>\n",
       "      <th>Reviews</th>\n",
       "      <th>Size</th>\n",
       "      <th>Installs</th>\n",
       "      <th>Type</th>\n",
       "      <th>Price</th>\n",
       "      <th>Content Rating</th>\n",
       "      <th>Genres</th>\n",
       "      <th>Last Updated</th>\n",
       "      <th>Current Ver</th>\n",
       "      <th>Android Ver</th>\n",
       "    </tr>\n",
       "  </thead>\n",
       "  <tbody>\n",
       "    <tr>\n",
       "      <th>0</th>\n",
       "      <td>Photo Editor &amp; Candy Camera &amp; Grid &amp; ScrapBook</td>\n",
       "      <td>ART_AND_DESIGN</td>\n",
       "      <td>4.1</td>\n",
       "      <td>159</td>\n",
       "      <td>19M</td>\n",
       "      <td>10,000+</td>\n",
       "      <td>Free</td>\n",
       "      <td>0</td>\n",
       "      <td>Everyone</td>\n",
       "      <td>Art &amp; Design</td>\n",
       "      <td>January 7, 2018</td>\n",
       "      <td>1.0.0</td>\n",
       "      <td>4.0.3 and up</td>\n",
       "    </tr>\n",
       "    <tr>\n",
       "      <th>1</th>\n",
       "      <td>Coloring book moana</td>\n",
       "      <td>ART_AND_DESIGN</td>\n",
       "      <td>3.9</td>\n",
       "      <td>967</td>\n",
       "      <td>14M</td>\n",
       "      <td>500,000+</td>\n",
       "      <td>Free</td>\n",
       "      <td>0</td>\n",
       "      <td>Everyone</td>\n",
       "      <td>Art &amp; Design;Pretend Play</td>\n",
       "      <td>January 15, 2018</td>\n",
       "      <td>2.0.0</td>\n",
       "      <td>4.0.3 and up</td>\n",
       "    </tr>\n",
       "    <tr>\n",
       "      <th>2</th>\n",
       "      <td>U Launcher Lite – FREE Live Cool Themes, Hide ...</td>\n",
       "      <td>ART_AND_DESIGN</td>\n",
       "      <td>4.7</td>\n",
       "      <td>87510</td>\n",
       "      <td>8.7M</td>\n",
       "      <td>5,000,000+</td>\n",
       "      <td>Free</td>\n",
       "      <td>0</td>\n",
       "      <td>Everyone</td>\n",
       "      <td>Art &amp; Design</td>\n",
       "      <td>August 1, 2018</td>\n",
       "      <td>1.2.4</td>\n",
       "      <td>4.0.3 and up</td>\n",
       "    </tr>\n",
       "  </tbody>\n",
       "</table>\n",
       "</div>"
      ],
      "text/plain": [
       "                                                 App        Category  Rating  \\\n",
       "0     Photo Editor & Candy Camera & Grid & ScrapBook  ART_AND_DESIGN     4.1   \n",
       "1                                Coloring book moana  ART_AND_DESIGN     3.9   \n",
       "2  U Launcher Lite – FREE Live Cool Themes, Hide ...  ART_AND_DESIGN     4.7   \n",
       "\n",
       "  Reviews  Size    Installs  Type Price Content Rating  \\\n",
       "0     159   19M     10,000+  Free     0       Everyone   \n",
       "1     967   14M    500,000+  Free     0       Everyone   \n",
       "2   87510  8.7M  5,000,000+  Free     0       Everyone   \n",
       "\n",
       "                      Genres      Last Updated Current Ver   Android Ver  \n",
       "0               Art & Design   January 7, 2018       1.0.0  4.0.3 and up  \n",
       "1  Art & Design;Pretend Play  January 15, 2018       2.0.0  4.0.3 and up  \n",
       "2               Art & Design    August 1, 2018       1.2.4  4.0.3 and up  "
      ]
     },
     "execution_count": 3,
     "metadata": {},
     "output_type": "execute_result"
    }
   ],
   "source": [
    "# First view\n",
    "pd.set_option('display.max_columns', None)\n",
    "pd.set_option('display.max_rows', None)\n",
    "df_obj.get_df().head(3)"
   ]
  },
  {
   "cell_type": "code",
   "execution_count": 4,
   "metadata": {},
   "outputs": [
    {
     "name": "stdout",
     "output_type": "stream",
     "text": [
      "Shape :  (10841, 13)\n",
      "\n",
      "Duplicate count :  483\n",
      "\n",
      "Columns :  ['App', 'Category', 'Rating', 'Reviews', 'Size', 'Installs', 'Type', 'Price', 'Content Rating', 'Genres', 'Last Updated', 'Current Ver', 'Android Ver']\n",
      "\n",
      "Info :\n",
      "<class 'pandas.core.frame.DataFrame'>\n",
      "RangeIndex: 10841 entries, 0 to 10840\n",
      "Data columns (total 13 columns):\n",
      " #   Column          Non-Null Count  Dtype  \n",
      "---  ------          --------------  -----  \n",
      " 0   App             10841 non-null  object \n",
      " 1   Category        10841 non-null  object \n",
      " 2   Rating          9367 non-null   float64\n",
      " 3   Reviews         10841 non-null  object \n",
      " 4   Size            10841 non-null  object \n",
      " 5   Installs        10841 non-null  object \n",
      " 6   Type            10840 non-null  object \n",
      " 7   Price           10841 non-null  object \n",
      " 8   Content Rating  10840 non-null  object \n",
      " 9   Genres          10841 non-null  object \n",
      " 10  Last Updated    10841 non-null  object \n",
      " 11  Current Ver     10833 non-null  object \n",
      " 12  Android Ver     10838 non-null  object \n",
      "dtypes: float64(1), object(12)\n",
      "memory usage: 1.1+ MB\n",
      "None\n"
     ]
    }
   ],
   "source": [
    "# basic details\n",
    "df_obj.show_info()"
   ]
  },
  {
   "cell_type": "code",
   "execution_count": 5,
   "metadata": {},
   "outputs": [
    {
     "data": {
      "text/html": [
       "<div>\n",
       "<style scoped>\n",
       "    .dataframe tbody tr th:only-of-type {\n",
       "        vertical-align: middle;\n",
       "    }\n",
       "\n",
       "    .dataframe tbody tr th {\n",
       "        vertical-align: top;\n",
       "    }\n",
       "\n",
       "    .dataframe thead th {\n",
       "        text-align: right;\n",
       "    }\n",
       "</style>\n",
       "<table border=\"1\" class=\"dataframe\">\n",
       "  <thead>\n",
       "    <tr style=\"text-align: right;\">\n",
       "      <th></th>\n",
       "      <th>Rating</th>\n",
       "    </tr>\n",
       "  </thead>\n",
       "  <tbody>\n",
       "    <tr>\n",
       "      <th>count</th>\n",
       "      <td>9367.000000</td>\n",
       "    </tr>\n",
       "    <tr>\n",
       "      <th>mean</th>\n",
       "      <td>4.193338</td>\n",
       "    </tr>\n",
       "    <tr>\n",
       "      <th>std</th>\n",
       "      <td>0.537431</td>\n",
       "    </tr>\n",
       "    <tr>\n",
       "      <th>min</th>\n",
       "      <td>1.000000</td>\n",
       "    </tr>\n",
       "    <tr>\n",
       "      <th>25%</th>\n",
       "      <td>4.000000</td>\n",
       "    </tr>\n",
       "    <tr>\n",
       "      <th>50%</th>\n",
       "      <td>4.300000</td>\n",
       "    </tr>\n",
       "    <tr>\n",
       "      <th>75%</th>\n",
       "      <td>4.500000</td>\n",
       "    </tr>\n",
       "    <tr>\n",
       "      <th>max</th>\n",
       "      <td>19.000000</td>\n",
       "    </tr>\n",
       "  </tbody>\n",
       "</table>\n",
       "</div>"
      ],
      "text/plain": [
       "            Rating\n",
       "count  9367.000000\n",
       "mean      4.193338\n",
       "std       0.537431\n",
       "min       1.000000\n",
       "25%       4.000000\n",
       "50%       4.300000\n",
       "75%       4.500000\n",
       "max      19.000000"
      ]
     },
     "execution_count": 5,
     "metadata": {},
     "output_type": "execute_result"
    }
   ],
   "source": [
    "# describe\n",
    "df_obj.get_df().describe()"
   ]
  },
  {
   "cell_type": "markdown",
   "metadata": {},
   "source": [
    "Till now we observed that there are some features which should be treated as numerice but they are object type. we have to consider this issue and treat it later. ['Reviews', 'Size', 'Installs', 'Price', 'Current Ver', 'Android Ver']"
   ]
  },
  {
   "cell_type": "code",
   "execution_count": 6,
   "metadata": {},
   "outputs": [
    {
     "name": "stdout",
     "output_type": "stream",
     "text": [
      "          features  null_count  null_pct\n",
      "0              App           0      0.00\n",
      "1         Category           0      0.00\n",
      "2           Rating        1474     13.60\n",
      "3          Reviews           0      0.00\n",
      "4             Size           0      0.00\n",
      "5         Installs           0      0.00\n",
      "6             Type           1      0.01\n",
      "7            Price           0      0.00\n",
      "8   Content Rating           1      0.01\n",
      "9           Genres           0      0.00\n",
      "10    Last Updated           0      0.00\n",
      "11     Current Ver           8      0.07\n",
      "12     Android Ver           3      0.03\n"
     ]
    }
   ],
   "source": [
    "df_obj.show_null()"
   ]
  },
  {
   "cell_type": "code",
   "execution_count": 7,
   "metadata": {
    "id": "3q5wnI3om9sJ"
   },
   "outputs": [
    {
     "data": {
      "image/png": "[encoded data removed]",
      "text/plain": [
       "<Figure size 1400x325 with 1 Axes>"
      ]
     },
     "metadata": {},
     "output_type": "display_data"
    }
   ],
   "source": [
    "# Visualizing the missing values\n",
    "df_obj.plot_null()"
   ]
  },
  {
   "cell_type": "code",
   "execution_count": 8,
   "metadata": {},
   "outputs": [
    {
     "name": "stdout",
     "output_type": "stream",
     "text": [
      "Unique values\n",
      "App               9660\n",
      "Category            34\n",
      "Rating              40\n",
      "Reviews           6002\n",
      "Size               462\n",
      "Installs            22\n",
      "Type                 3\n",
      "Price               93\n",
      "Content Rating       6\n",
      "Genres             120\n",
      "Last Updated      1378\n",
      "Current Ver       2832\n",
      "Android Ver         33\n",
      "dtype: int64\n"
     ]
    }
   ],
   "source": [
    "df_obj.show_all_unique_count()"
   ]
  },
  {
   "cell_type": "code",
   "execution_count": 9,
   "metadata": {},
   "outputs": [
    {
     "name": "stdout",
     "output_type": "stream",
     "text": [
      "Column :  Category\n",
      "Unique count :  34\n",
      "['ART_AND_DESIGN', 'AUTO_AND_VEHICLES', 'BEAUTY', 'BOOKS_AND_REFERENCE', 'BUSINESS', 'COMICS', 'COMMUNICATION', 'DATING', 'EDUCATION', 'ENTERTAINMENT', 'EVENTS', 'FINANCE', 'FOOD_AND_DRINK', 'HEALTH_AND_FITNESS', 'HOUSE_AND_HOME', 'LIBRARIES_AND_DEMO', 'LIFESTYLE', 'GAME', 'FAMILY', 'MEDICAL', 'SOCIAL', 'SHOPPING', 'PHOTOGRAPHY', 'SPORTS', 'TRAVEL_AND_LOCAL', 'TOOLS', 'PERSONALIZATION', 'PRODUCTIVITY', 'PARENTING', 'WEATHER', 'VIDEO_PLAYERS', 'NEWS_AND_MAGAZINES', 'MAPS_AND_NAVIGATION', '1.9']\n",
      "\n",
      "Column :  Rating\n",
      "Unique count :  40\n",
      "[4.1, 3.9, 4.7, 4.5, 4.3, 4.4, 3.8, 4.2, 4.6, 3.2, 4.0, nan, 4.8, 4.9, 3.6, 3.7, 3.3, 3.4, 3.5, 3.1, 5.0, 2.6, 3.0, 1.9, 2.5, 2.8, 2.7, 1.0, 2.9, 2.3, 2.2, 1.7, 2.0, 1.8, 2.4, 1.6, 2.1, 1.4, 1.5, 1.2, 19.0]\n",
      "\n",
      "Column :  Installs\n",
      "Unique count :  22\n",
      "['10,000+', '500,000+', '5,000,000+', '50,000,000+', '100,000+', '50,000+', '1,000,000+', '10,000,000+', '5,000+', '100,000,000+', '1,000,000,000+', '1,000+', '500,000,000+', '50+', '100+', '500+', '10+', '1+', '5+', '0+', '0', 'Free']\n",
      "\n",
      "Column :  Type\n",
      "Unique count :  3\n",
      "['Free', 'Paid', nan, '0']\n",
      "\n",
      "Column :  Price\n",
      "Unique count :  93\n",
      "['0', '$4.99', '$3.99', '$6.99', '$1.49', '$2.99', '$7.99', '$5.99', '$3.49', '$1.99', '$9.99', '$7.49', '$0.99', '$9.00', '$5.49', '$10.00', '$24.99', '$11.99', '$79.99', '$16.99', '$14.99', '$1.00', '$29.99', '$12.99', '$2.49', '$10.99', '$1.50', '$19.99', '$15.99', '$33.99', '$74.99', '$39.99', '$3.95', '$4.49', '$1.70', '$8.99', '$2.00', '$3.88', '$25.99', '$399.99', '$17.99', '$400.00', '$3.02', '$1.76', '$4.84', '$4.77', '$1.61', '$2.50', '$1.59', '$6.49', '$1.29', '$5.00', '$13.99', '$299.99', '$379.99', '$37.99', '$18.99', '$389.99', '$19.90', '$8.49', '$1.75', '$14.00', '$4.85', '$46.99', '$109.99', '$154.99', '$3.08', '$2.59', '$4.80', '$1.96', '$19.40', '$3.90', '$4.59', '$15.46', '$3.04', '$4.29', '$2.60', '$3.28', '$4.60', '$28.99', '$2.95', '$2.90', '$1.97', '$200.00', '$89.99', '$2.56', '$30.99', '$3.61', '$394.99', '$1.26', 'Everyone', '$1.20', '$1.04']\n",
      "\n",
      "Column :  Content Rating\n",
      "Unique count :  6\n",
      "['Everyone', 'Teen', 'Everyone 10+', 'Mature 17+', 'Adults only 18+', 'Unrated', nan]\n",
      "\n",
      "Column :  Genres\n",
      "Unique count :  120\n",
      "['Art & Design', 'Art & Design;Pretend Play', 'Art & Design;Creativity', 'Art & Design;Action & Adventure', 'Auto & Vehicles', 'Beauty', 'Books & Reference', 'Business', 'Comics', 'Comics;Creativity', 'Communication', 'Dating', 'Education;Education', 'Education', 'Education;Creativity', 'Education;Music & Video', 'Education;Action & Adventure', 'Education;Pretend Play', 'Education;Brain Games', 'Entertainment', 'Entertainment;Music & Video', 'Entertainment;Brain Games', 'Entertainment;Creativity', 'Events', 'Finance', 'Food & Drink', 'Health & Fitness', 'House & Home', 'Libraries & Demo', 'Lifestyle', 'Lifestyle;Pretend Play', 'Adventure;Action & Adventure', 'Arcade', 'Casual', 'Card', 'Casual;Pretend Play', 'Action', 'Strategy', 'Puzzle', 'Sports', 'Music', 'Word', 'Racing', 'Casual;Creativity', 'Casual;Action & Adventure', 'Simulation', 'Adventure', 'Board', 'Trivia', 'Role Playing', 'Simulation;Education', 'Action;Action & Adventure', 'Casual;Brain Games', 'Simulation;Action & Adventure', 'Educational;Creativity', 'Puzzle;Brain Games', 'Educational;Education', 'Card;Brain Games', 'Educational;Brain Games', 'Educational;Pretend Play', 'Entertainment;Education', 'Casual;Education', 'Music;Music & Video', 'Racing;Action & Adventure', 'Arcade;Pretend Play', 'Role Playing;Action & Adventure', 'Simulation;Pretend Play', 'Puzzle;Creativity', 'Sports;Action & Adventure', 'Educational;Action & Adventure', 'Arcade;Action & Adventure', 'Entertainment;Action & Adventure', 'Puzzle;Action & Adventure', 'Strategy;Action & Adventure', 'Music & Audio;Music & Video', 'Health & Fitness;Education', 'Adventure;Education', 'Board;Brain Games', 'Board;Action & Adventure', 'Board;Pretend Play', 'Casual;Music & Video', 'Role Playing;Pretend Play', 'Entertainment;Pretend Play', 'Video Players & Editors;Creativity', 'Card;Action & Adventure', 'Medical', 'Social', 'Shopping', 'Photography', 'Travel & Local', 'Travel & Local;Action & Adventure', 'Tools', 'Tools;Education', 'Personalization', 'Productivity', 'Parenting', 'Parenting;Music & Video', 'Parenting;Education', 'Parenting;Brain Games', 'Weather', 'Video Players & Editors', 'Video Players & Editors;Music & Video', 'News & Magazines', 'Maps & Navigation', 'Health & Fitness;Action & Adventure', 'Educational', 'Casino', 'Adventure;Brain Games', 'Trivia;Education', 'Lifestyle;Education', 'Books & Reference;Creativity', 'Books & Reference;Education', 'Puzzle;Education', 'Role Playing;Education', 'Role Playing;Brain Games', 'Strategy;Education', 'Racing;Pretend Play', 'Communication;Creativity', 'February 11, 2018', 'Strategy;Creativity']\n",
      "\n",
      "Column :  Android Ver\n",
      "Unique count :  33\n",
      "['4.0.3 and up', '4.2 and up', '4.4 and up', '2.3 and up', '3.0 and up', '4.1 and up', '4.0 and up', '2.3.3 and up', 'Varies with device', '2.2 and up', '5.0 and up', '6.0 and up', '1.6 and up', '1.5 and up', '2.1 and up', '7.0 and up', '5.1 and up', '4.3 and up', '4.0.3 - 7.1.1', '2.0 and up', '3.2 and up', '4.4W and up', '7.1 and up', '7.0 - 7.1.1', '8.0 and up', '5.0 - 8.0', '3.1 and up', '2.0.1 and up', '4.1 - 7.1.1', nan, '5.0 - 6.0', '1.0 and up', '2.2 - 7.1.1', '5.0 - 7.1.1']\n",
      "\n"
     ]
    }
   ],
   "source": [
    "# Category, Rating, Installs, Type, Content Rating, Android Ver\n",
    "list_of_high_unique=['reviews','app','size','last updated', 'current ver']\n",
    "for col in df_obj.df.columns:\n",
    "    if col.lower() not in list_of_high_unique:\n",
    "        print('Column : ',col)\n",
    "        print(df_obj.get_unique(col))\n",
    "        print()"
   ]
  },
  {
   "cell_type": "markdown",
   "metadata": {},
   "source": [
    "The file contains details of app uploaded on playstore like ratings, review, etc."
   ]
  },
  {
   "cell_type": "markdown",
   "metadata": {
    "id": "aJV4KIxSnxay"
   },
   "source": [
    "### Variable Description\n",
    "1. App : app name\n",
    "2. Category : app category\n",
    "3. Rating : ratings given by users\n",
    "4. Reviews : reviews\n",
    "5. Size : size of the app\n",
    "6. Installs : Number of users who installed the app\n",
    "7. Type :\n",
    "8. Price : Price of the app at google play\n",
    "9. Content Rating : Tells what kind of people can use the app\n",
    "10. Genres :\n",
    "11. Last Updated : date when the app was updated last time\n",
    "12. Current Ver : Current version"
   ]
  },
  {
   "cell_type": "markdown",
   "metadata": {
    "id": "dauF4eBmngu3"
   },
   "source": [
    "## 3. ***Data Wrangling***"
   ]
  },
  {
   "cell_type": "code",
   "execution_count": 10,
   "metadata": {},
   "outputs": [
    {
     "name": "stdout",
     "output_type": "stream",
     "text": [
      "duplicates have been dropped\n",
      "data type changer has been applied for the columns reviews, installs, price, size, Last Updated\n",
      "null imputed using bfill method\n",
      "free, paid, df_successfull have been created\n"
     ]
    }
   ],
   "source": [
    "# Data wrangling code\n",
    "class DataWrangling:\n",
    "    def __init__(self,df):\n",
    "        self.df = df.copy()\n",
    "    # by value\n",
    "    def get_by_value(self,col,val):\n",
    "        df =self.df[self.df[col]==val]\n",
    "        print('Shape : ',df.shape)\n",
    "        return df\n",
    "    # change reviews dtype\n",
    "    def reviews_dtype(self,x):\n",
    "        try:\n",
    "            x = int(x)\n",
    "        except:\n",
    "            if x[-1].lower()== 'm':\n",
    "                x= int(x[:-3])*10**6\n",
    "            elif x[-1].lower()=='b':\n",
    "                x= int(x[:-3])*10**9\n",
    "            elif x[-1].lower()=='t':\n",
    "                x= int(x[:-3])*10**12\n",
    "        return x\n",
    "    # change installs dtype\n",
    "    def installs_dtype(self,x):\n",
    "        try:\n",
    "            x= x[:-1].split(',')\n",
    "            x=int(''.join(x))\n",
    "        except:\n",
    "            try:\n",
    "                x=float(x)\n",
    "            except:\n",
    "                x= float(0)\n",
    "        return x\n",
    "    # change price dtype\n",
    "    def price_dtype(self,x):\n",
    "        try:\n",
    "            x = float(x)\n",
    "        except:\n",
    "            try:\n",
    "                x=float(x[1:])\n",
    "            except:\n",
    "                x=0.0\n",
    "        return x\n",
    "    # change size dtype\n",
    "    def size_dtype(self,x):\n",
    "        k=1024\n",
    "        try:\n",
    "            if x[-1].lower()=='b':\n",
    "                x =float(x[:-1])\n",
    "            elif x[-1].lower()=='k':\n",
    "                x=float(x[:-1])*k\n",
    "            elif x[-1].lower()=='m':\n",
    "                x=float(x[:-1])*k**2\n",
    "            elif x[-1].lower()=='g':\n",
    "                x=float(x[:-1])*k**3\n",
    "            elif x[-1].lower()=='t':\n",
    "                x=float(x[:-1])*k**4\n",
    "            else:\n",
    "                x=float(x[:-1])\n",
    "        except:\n",
    "            x = float(0)\n",
    "        return x\n",
    "    # date time conversion\n",
    "    def date_conversion(self, x):\n",
    "        months = ['January','February', 'March', 'April', 'May', 'June', 'July', 'August', 'September', 'October', 'November', 'December']\n",
    "        try:\n",
    "            for i in range(12):\n",
    "                if months[i] in x:\n",
    "                    x = x.replace(months[i],str(i+1))\n",
    "            x= x.split()\n",
    "            x='/'.join(x)\n",
    "            x= x.split(',')\n",
    "            x = ''.join(x)\n",
    "            x =datetime.strptime(x, \"%m/%d/%Y\")\n",
    "            return x\n",
    "        except:\n",
    "            x='1/1/2024'\n",
    "            x =datetime.strptime(x, \"%m/%d/%Y\")\n",
    "            return x \n",
    "    # apply above function\n",
    "    def apply_dtype_changer(self):\n",
    "        self.df['Reviews']=self.df['Reviews'].apply(self.reviews_dtype)\n",
    "        self.df['Installs']=self.df['Installs'].apply(self.installs_dtype)\n",
    "        self.df['Price']=self.df['Price'].apply(self.price_dtype)\n",
    "        self.df['size_in_bytes']=self.df['Size'].apply(self.size_dtype)\n",
    "        self.df['Last Updated'] = self.df['Last Updated'].apply(self.date_conversion)\n",
    "    # readable size\n",
    "    def readable_size(self, x):\n",
    "        if x>=1024**4:\n",
    "            return round(x/1024**4,2),'T'\n",
    "        elif x>=1024**3:\n",
    "            return round(x/1024**3,2),'G'\n",
    "        elif x>=1024**2:\n",
    "            return round(x/1024**2,2),'M'\n",
    "        elif x>= 1024:\n",
    "            return round(x/1024,2),'K'\n",
    "        else:\n",
    "            return x,'B'\n",
    "    # data wrangling function\n",
    "    def data_wrangling(self):\n",
    "        self.df.drop_duplicates(inplace=True)\n",
    "        self.df= self.df[self.df['Type']!='0']\n",
    "        print('duplicates have been dropped')\n",
    "        self.apply_dtype_changer()\n",
    "        print(f'data type changer has been applied for the columns reviews, installs, price, size, Last Updated')\n",
    "        self.df.fillna(method='bfill', inplace=True)\n",
    "        print('null imputed using bfill method')\n",
    "        self.paid= self.df[self.df['Type']=='Paid']\n",
    "        self.free= self.df[self.df['Type']=='Free']\n",
    "        self.df_successfull_paid= self.df[(self.df['Rating']>3.5) & (self.df['Type']=='Paid')]\n",
    "        print('free, paid, df_successfull have been created')\n",
    "        self.df['la_year']=self.df['Last Updated'].apply(lambda x: x.year)\n",
    "# creating object and performing data wrangling\n",
    "dataWrangling = DataWrangling(df=df_obj.get_df())\n",
    "dataWrangling.data_wrangling()"
   ]
  },
  {
   "cell_type": "code",
   "execution_count": 11,
   "metadata": {},
   "outputs": [
    {
     "name": "stdout",
     "output_type": "stream",
     "text": [
      "1. Top 10 genres with higest app counts\n",
      "            Genres  count\n",
      "0            Tools    842\n",
      "1    Entertainment    588\n",
      "2        Education    527\n",
      "3         Business    427\n",
      "4          Medical    408\n",
      "5     Productivity    407\n",
      "6  Personalization    388\n",
      "7        Lifestyle    372\n",
      "8    Communication    366\n",
      "9           Sports    364\n",
      "\n",
      "2. Costliest genres\n",
      "          Genres       Price\n",
      "0        Finance  170.637059\n",
      "1      Lifestyle  124.256316\n",
      "2         Events  109.990000\n",
      "3  Entertainment   87.635789\n",
      "4       Business   14.607500\n",
      "5         Casino   14.000000\n",
      "6        Medical   12.151071\n",
      "7   Productivity    8.961786\n",
      "8   Role Playing    8.252727\n",
      "9      Education    6.632667\n",
      "\n",
      "3. Genres with highest review\n",
      "                                    Genres    Reviews\n",
      "0                            Communication  601273552\n",
      "1                                   Social  533576829\n",
      "2                                   Casual  367220219\n",
      "3                                   Action  313193086\n",
      "4                                   Arcade  308758806\n",
      "5                                 Strategy  278239097\n",
      "6                                    Tools  272842708\n",
      "7                              Photography  204297410\n",
      "8                                   Sports  181950480\n",
      "9                  Video Players & Editors  110101364\n",
      "10                            Productivity  102554498\n",
      "11                                Shopping   94931162\n",
      "12                                  Racing   89096887\n",
      "13                           Entertainment   87518085\n",
      "14                         Personalization   75193163\n",
      "15                          Travel & Local   55564270\n",
      "16                                  Puzzle   40931732\n",
      "17            Adventure;Action & Adventure   40140611\n",
      "18                        News & Magazines   38245873\n",
      "19                              Simulation   33444436\n",
      "20                     Education;Education   32678018\n",
      "21               Casual;Action & Adventure   32358815\n",
      "22                        Health & Fitness   30845186\n",
      "23                       Maps & Navigation   30659254\n",
      "24                               Adventure   29731704\n",
      "25                       Books & Reference   21873227\n",
      "26                            Role Playing   21675717\n",
      "27                                 Finance   16999891\n",
      "28                                 Weather   14604735\n",
      "29                               Lifestyle   12679580\n",
      "30                                Business   12358171\n",
      "31                               Education   11982883\n",
      "32                            Food & Drink    7671576\n",
      "33                                  Trivia    7175955\n",
      "34                                    Card    6852815\n",
      "35                                    Word    6597816\n",
      "36               Arcade;Action & Adventure    5910124\n",
      "37                                  Dating    5545397\n",
      "38               Racing;Action & Adventure    5312866\n",
      "39                                  Casino    5103971\n",
      "40                                   Music    5097417\n",
      "41               Puzzle;Action & Adventure    4750087\n",
      "42                                   Board    4333647\n",
      "43                Educational;Pretend Play    4280096\n",
      "44                                  Comics    3382760\n",
      "45             Entertainment;Music & Video    3134236\n",
      "46                     Casual;Pretend Play    3053543\n",
      "47                            House & Home    2794772\n",
      "48                      Puzzle;Brain Games    2625574\n",
      "49           Simulation;Action & Adventure    1859747\n",
      "50               Action;Action & Adventure    1774915\n",
      "51                            Art & Design    1681713\n",
      "52               Sports;Action & Adventure    1520335\n",
      "53                                 Medical    1396757\n",
      "54         Role Playing;Action & Adventure    1378730\n",
      "55          Educational;Action & Adventure    1349496\n",
      "56                         Auto & Vehicles    1163666\n",
      "57                 Card;Action & Adventure    1050174\n",
      "58                        Libraries & Demo    1037118\n",
      "59                               Parenting     913120\n",
      "60                   Education;Brain Games     849921\n",
      "61               Entertainment;Brain Games     789226\n",
      "62                       Casual;Creativity     599110\n",
      "63                     Adventure;Education     577129\n",
      "64                Entertainment;Creativity     430678\n",
      "65                   Educational;Education     421020\n",
      "66                                  Beauty     396240\n",
      "67                         Tools;Education     342336\n",
      "68      Video Players & Editors;Creativity     319241\n",
      "69   Video Players & Editors;Music & Video     278154\n",
      "70                             Educational     233446\n",
      "71               Role Playing;Pretend Play     223192\n",
      "72                  Education;Pretend Play     193241\n",
      "73                      Casual;Brain Games     167869\n",
      "74                                  Events     161018\n",
      "75                Role Playing;Brain Games     151374\n",
      "76                  Lifestyle;Pretend Play     140995\n",
      "77                 Simulation;Pretend Play     140252\n",
      "78        Entertainment;Action & Adventure     137250\n",
      "79                     Strategy;Creativity     129542\n",
      "80                 Educational;Brain Games     125312\n",
      "81              Entertainment;Pretend Play     107310\n",
      "82                 Education;Music & Video      81048\n",
      "83                       Puzzle;Creativity      77239\n",
      "84                Board;Action & Adventure      74814\n",
      "85                     Music;Music & Video      51091\n",
      "86                    Simulation;Education      50953\n",
      "87                  Educational;Creativity      44585\n",
      "88                       Board;Brain Games      44219\n",
      "89                 Art & Design;Creativity      42212\n",
      "90                    Education;Creativity      39648\n",
      "91             Strategy;Action & Adventure      39633\n",
      "92                    Casual;Music & Video      38021\n",
      "93     Health & Fitness;Action & Adventure      31061\n",
      "94                        Casual;Education      28195\n",
      "95                 Parenting;Music & Video      26228\n",
      "96                     Arcade;Pretend Play      23671\n",
      "97            Education;Action & Adventure      16659\n",
      "98                     Parenting;Education      15369\n",
      "99              Health & Fitness;Education       9856\n",
      "100                Entertainment;Education       7320\n",
      "101                  Adventure;Brain Games       7148\n",
      "102                  Parenting;Brain Games       3614\n",
      "103               Communication;Creativity       3478\n",
      "104                    Lifestyle;Education       3146\n",
      "105                    Racing;Pretend Play       2200\n",
      "106                     Strategy;Education       2062\n",
      "107              Art & Design;Pretend Play       1941\n",
      "108            Music & Audio;Music & Video       1369\n",
      "109      Travel & Local;Action & Adventure        890\n",
      "110                       Puzzle;Education        834\n",
      "111                       Card;Brain Games        685\n",
      "112                      Comics;Creativity        516\n",
      "113            Books & Reference;Education        471\n",
      "114        Art & Design;Action & Adventure        126\n",
      "115           Books & Reference;Creativity          9\n",
      "116                       Trivia;Education          8\n",
      "117                     Board;Pretend Play          4\n",
      "118                 Role Playing;Education          1\n"
     ]
    }
   ],
   "source": [
    "top_gen_count= dataWrangling.df['Genres'].value_counts().sort_values(ascending=False).reset_index().head(10)\n",
    "# costliest_app= dataWrangling.paid.sort_values(by='Price', ascending=False).head(10)[['App','Price', 'Genres']]\n",
    "costliest_genres= dataWrangling.paid.groupby(['Genres'])['Price'].mean().sort_values(ascending=False).reset_index().head(10)\n",
    "genres_highest_reviews = dataWrangling.df.groupby(['Genres'])['Reviews'].sum().sort_values(ascending=False).reset_index()\n",
    "app_highest_size= dataWrangling.df.sort_values(by='size_in_bytes', ascending=False).reset_index().head(20)[['App','Size']]\n",
    "top_category_by_size= []\n",
    "\n",
    "# Prints\n",
    "print('1. Top 10 genres with higest app counts')\n",
    "print(top_gen_count)\n",
    "print()\n",
    "print('2. Costliest genres')\n",
    "print(costliest_genres)\n",
    "print()\n",
    "print('3. Genres with highest review')\n",
    "print(genres_highest_reviews)\n",
    "# print()\n",
    "# print(app_highest_size)"
   ]
  },
  {
   "cell_type": "code",
   "execution_count": 12,
   "metadata": {},
   "outputs": [],
   "source": [
    "x= round(dataWrangling.df.groupby(['Genres'])['size_in_bytes'].mean(),2)\n",
    "x=x.sort_values(ascending=False).reset_index()\n",
    "# x['s']=x['size_in_bytes'].apply(dataWrangling.readable_size)\n",
    "x.index= x.Genres\n",
    "x['Size']= x['size_in_bytes'].apply(dataWrangling.readable_size)\n",
    "x=x.apply(lambda o: str(o['Size'][0])+str(o['Size'][1]), axis=1)\n",
    "x.drop(columns=['Genres'],inplace=True)\n",
    "def highest_size():\n",
    "    return round(dataWrangling.df.groupby(['Genres'])['size_in_bytes'].mean(),0).sort_values(ascending=False).reset_index()"
   ]
  },
  {
   "cell_type": "code",
   "execution_count": 13,
   "metadata": {},
   "outputs": [],
   "source": [
    "huge_size= highest_size()"
   ]
  },
  {
   "cell_type": "markdown",
   "metadata": {},
   "source": [
    "1. Top genres with 842 number of app is: Tools\n",
    "2. Costliest genres with mean price $170.64 is: Finance\n",
    "3. Top Genres with reviews 601273552 is: Communication\n",
    "4. Top Genres with mean size 104857600 bytes is: Lifestyle;Pretend Play"
   ]
  },
  {
   "cell_type": "markdown",
   "metadata": {
    "id": "LbyXE7I1olp8"
   },
   "source": [
    "1. Duplicates have been dropped.\n",
    "2. data types have been changed for Reviews, Size, Price, Installs, Last Updated.\n",
    "3. Null values treated."
   ]
  },
  {
   "cell_type": "markdown",
   "metadata": {
    "id": "GF8Ens_Soomf"
   },
   "source": [
    "## ***4. Data Vizualization, Storytelling & Experimenting with charts : Understand the relationships between variables***"
   ]
  },
  {
   "cell_type": "markdown",
   "metadata": {
    "id": "0wOQAZs5pc--"
   },
   "source": [
    "#### Chart - 1"
   ]
  },
  {
   "cell_type": "markdown",
   "metadata": {
    "id": "K5QZ13OEpz2H"
   },
   "source": [
    "##### 1. Why did you pick the specific chart?"
   ]
  },
  {
   "cell_type": "markdown",
   "metadata": {
    "id": "XESiWehPqBRc"
   },
   "source": [
    "Answer Here."
   ]
  },
  {
   "cell_type": "markdown",
   "metadata": {
    "id": "lQ7QKXXCp7Bj"
   },
   "source": [
    "##### 2. What is/are the insight(s) found from the chart?"
   ]
  },
  {
   "cell_type": "markdown",
   "metadata": {
    "id": "C_j1G7yiqdRP"
   },
   "source": [
    "Answer Here"
   ]
  },
  {
   "cell_type": "markdown",
   "metadata": {
    "id": "448CDAPjqfQr"
   },
   "source": [
    "##### 3. Will the gained insights help creating a positive business impact? \n",
    "Are there any insights that lead to negative growth? Justify with specific reason."
   ]
  },
  {
   "cell_type": "markdown",
   "metadata": {
    "id": "3cspy4FjqxJW"
   },
   "source": [
    "Answer Here"
   ]
  },
  {
   "cell_type": "markdown",
   "metadata": {
    "id": "KSlN3yHqYklG"
   },
   "source": [
    "#### Chart - 2"
   ]
  },
  {
   "cell_type": "code",
   "execution_count": 14,
   "metadata": {
    "id": "R4YgtaqtYklH"
   },
   "outputs": [],
   "source": [
    "# Chart - 2 visualization code"
   ]
  },
  {
   "cell_type": "markdown",
   "metadata": {
    "id": "t6dVpIINYklI"
   },
   "source": [
    "##### 1. Why did you pick the specific chart?"
   ]
  },
  {
   "cell_type": "markdown",
   "metadata": {
    "id": "5aaW0BYyYklI"
   },
   "source": [
    "Answer Here."
   ]
  },
  {
   "cell_type": "markdown",
   "metadata": {
    "id": "ijmpgYnKYklI"
   },
   "source": [
    "##### 2. What is/are the insight(s) found from the chart?"
   ]
  },
  {
   "cell_type": "markdown",
   "metadata": {
    "id": "PSx9atu2YklI"
   },
   "source": [
    "Answer Here"
   ]
  },
  {
   "cell_type": "markdown",
   "metadata": {
    "id": "-JiQyfWJYklI"
   },
   "source": [
    "##### 3. Will the gained insights help creating a positive business impact? \n",
    "Are there any insights that lead to negative growth? Justify with specific reason."
   ]
  },
  {
   "cell_type": "markdown",
   "metadata": {
    "id": "BcBbebzrYklV"
   },
   "source": [
    "Answer Here"
   ]
  },
  {
   "cell_type": "markdown",
   "metadata": {
    "id": "EM7whBJCYoAo"
   },
   "source": [
    "#### Chart - 3"
   ]
  },
  {
   "cell_type": "code",
   "execution_count": 15,
   "metadata": {
    "id": "t6GMdE67YoAp"
   },
   "outputs": [],
   "source": [
    "# Chart - 3 visualization code"
   ]
  },
  {
   "cell_type": "markdown",
   "metadata": {
    "id": "fge-S5ZAYoAp"
   },
   "source": [
    "##### 1. Why did you pick the specific chart?"
   ]
  },
  {
   "cell_type": "markdown",
   "metadata": {
    "id": "5dBItgRVYoAp"
   },
   "source": [
    "Answer Here."
   ]
  },
  {
   "cell_type": "markdown",
   "metadata": {
    "id": "85gYPyotYoAp"
   },
   "source": [
    "##### 2. What is/are the insight(s) found from the chart?"
   ]
  },
  {
   "cell_type": "markdown",
   "metadata": {
    "id": "4jstXR6OYoAp"
   },
   "source": [
    "Answer Here"
   ]
  },
  {
   "cell_type": "markdown",
   "metadata": {
    "id": "RoGjAbkUYoAp"
   },
   "source": [
    "##### 3. Will the gained insights help creating a positive business impact? \n",
    "Are there any insights that lead to negative growth? Justify with specific reason."
   ]
  },
  {
   "cell_type": "markdown",
   "metadata": {
    "id": "zfJ8IqMcYoAp"
   },
   "source": [
    "Answer Here"
   ]
  },
  {
   "cell_type": "markdown",
   "metadata": {
    "id": "4Of9eVA-YrdM"
   },
   "source": [
    "#### Chart - 4"
   ]
  },
  {
   "cell_type": "code",
   "execution_count": 16,
   "metadata": {
    "id": "irlUoxc8YrdO"
   },
   "outputs": [],
   "source": [
    "# Chart - 4 visualization code"
   ]
  },
  {
   "cell_type": "markdown",
   "metadata": {
    "id": "iky9q4vBYrdO"
   },
   "source": [
    "##### 1. Why did you pick the specific chart?"
   ]
  },
  {
   "cell_type": "markdown",
   "metadata": {
    "id": "aJRCwT6DYrdO"
   },
   "source": [
    "Answer Here."
   ]
  },
  {
   "cell_type": "markdown",
   "metadata": {
    "id": "F6T5p64dYrdO"
   },
   "source": [
    "##### 2. What is/are the insight(s) found from the chart?"
   ]
  },
  {
   "cell_type": "markdown",
   "metadata": {
    "id": "Xx8WAJvtYrdO"
   },
   "source": [
    "Answer Here"
   ]
  },
  {
   "cell_type": "markdown",
   "metadata": {
    "id": "y-Ehk30pYrdP"
   },
   "source": [
    "##### 3. Will the gained insights help creating a positive business impact? \n",
    "Are there any insights that lead to negative growth? Justify with specific reason."
   ]
  },
  {
   "cell_type": "markdown",
   "metadata": {
    "id": "jLNxxz7MYrdP"
   },
   "source": [
    "Answer Here"
   ]
  },
  {
   "cell_type": "markdown",
   "metadata": {
    "id": "bamQiAODYuh1"
   },
   "source": [
    "#### Chart - 5"
   ]
  },
  {
   "cell_type": "code",
   "execution_count": 17,
   "metadata": {
    "id": "TIJwrbroYuh3"
   },
   "outputs": [],
   "source": [
    "# Chart - 5 visualization code"
   ]
  },
  {
   "cell_type": "markdown",
   "metadata": {
    "id": "QHF8YVU7Yuh3"
   },
   "source": [
    "##### 1. Why did you pick the specific chart?"
   ]
  },
  {
   "cell_type": "markdown",
   "metadata": {
    "id": "dcxuIMRPYuh3"
   },
   "source": [
    "Answer Here."
   ]
  },
  {
   "cell_type": "markdown",
   "metadata": {
    "id": "GwzvFGzlYuh3"
   },
   "source": [
    "##### 2. What is/are the insight(s) found from the chart?"
   ]
  },
  {
   "cell_type": "markdown",
   "metadata": {
    "id": "uyqkiB8YYuh3"
   },
   "source": [
    "Answer Here"
   ]
  },
  {
   "cell_type": "markdown",
   "metadata": {
    "id": "qYpmQ266Yuh3"
   },
   "source": [
    "##### 3. Will the gained insights help creating a positive business impact? \n",
    "Are there any insights that lead to negative growth? Justify with specific reason."
   ]
  },
  {
   "cell_type": "markdown",
   "metadata": {
    "id": "_WtzZ_hCYuh4"
   },
   "source": [
    "Answer Here"
   ]
  },
  {
   "cell_type": "markdown",
   "metadata": {
    "id": "OH-pJp9IphqM"
   },
   "source": [
    "#### Chart - 6"
   ]
  },
  {
   "cell_type": "code",
   "execution_count": 18,
   "metadata": {
    "id": "kuRf4wtuphqN"
   },
   "outputs": [],
   "source": [
    "# Chart - 6 visualization code"
   ]
  },
  {
   "cell_type": "markdown",
   "metadata": {
    "id": "bbFf2-_FphqN"
   },
   "source": [
    "##### 1. Why did you pick the specific chart?"
   ]
  },
  {
   "cell_type": "markdown",
   "metadata": {
    "id": "loh7H2nzphqN"
   },
   "source": [
    "Answer Here."
   ]
  },
  {
   "cell_type": "markdown",
   "metadata": {
    "id": "_ouA3fa0phqN"
   },
   "source": [
    "##### 2. What is/are the insight(s) found from the chart?"
   ]
  },
  {
   "cell_type": "markdown",
   "metadata": {
    "id": "VECbqPI7phqN"
   },
   "source": [
    "Answer Here"
   ]
  },
  {
   "cell_type": "markdown",
   "metadata": {
    "id": "Seke61FWphqN"
   },
   "source": [
    "##### 3. Will the gained insights help creating a positive business impact? \n",
    "Are there any insights that lead to negative growth? Justify with specific reason."
   ]
  },
  {
   "cell_type": "markdown",
   "metadata": {
    "id": "DW4_bGpfphqN"
   },
   "source": [
    "Answer Here"
   ]
  },
  {
   "cell_type": "markdown",
   "metadata": {
    "id": "PIIx-8_IphqN"
   },
   "source": [
    "#### Chart - 7"
   ]
  },
  {
   "cell_type": "code",
   "execution_count": 19,
   "metadata": {
    "id": "lqAIGUfyphqO"
   },
   "outputs": [],
   "source": [
    "# Chart - 7 visualization code"
   ]
  },
  {
   "cell_type": "markdown",
   "metadata": {
    "id": "t27r6nlMphqO"
   },
   "source": [
    "##### 1. Why did you pick the specific chart?"
   ]
  },
  {
   "cell_type": "markdown",
   "metadata": {
    "id": "iv6ro40sphqO"
   },
   "source": [
    "Answer Here."
   ]
  },
  {
   "cell_type": "markdown",
   "metadata": {
    "id": "r2jJGEOYphqO"
   },
   "source": [
    "##### 2. What is/are the insight(s) found from the chart?"
   ]
  },
  {
   "cell_type": "markdown",
   "metadata": {
    "id": "Po6ZPi4hphqO"
   },
   "source": [
    "Answer Here"
   ]
  },
  {
   "cell_type": "markdown",
   "metadata": {
    "id": "b0JNsNcRphqO"
   },
   "source": [
    "##### 3. Will the gained insights help creating a positive business impact? \n",
    "Are there any insights that lead to negative growth? Justify with specific reason."
   ]
  },
  {
   "cell_type": "markdown",
   "metadata": {
    "id": "xvSq8iUTphqO"
   },
   "source": [
    "Answer Here"
   ]
  },
  {
   "cell_type": "markdown",
   "metadata": {
    "id": "BZR9WyysphqO"
   },
   "source": [
    "#### Chart - 8"
   ]
  },
  {
   "cell_type": "code",
   "execution_count": 20,
   "metadata": {
    "id": "TdPTWpAVphqO"
   },
   "outputs": [],
   "source": [
    "# Chart - 8 visualization code"
   ]
  },
  {
   "cell_type": "markdown",
   "metadata": {
    "id": "jj7wYXLtphqO"
   },
   "source": [
    "##### 1. Why did you pick the specific chart?"
   ]
  },
  {
   "cell_type": "markdown",
   "metadata": {
    "id": "Ob8u6rCTphqO"
   },
   "source": [
    "Answer Here."
   ]
  },
  {
   "cell_type": "markdown",
   "metadata": {
    "id": "eZrbJ2SmphqO"
   },
   "source": [
    "##### 2. What is/are the insight(s) found from the chart?"
   ]
  },
  {
   "cell_type": "markdown",
   "metadata": {
    "id": "mZtgC_hjphqO"
   },
   "source": [
    "Answer Here"
   ]
  },
  {
   "cell_type": "markdown",
   "metadata": {
    "id": "rFu4xreNphqO"
   },
   "source": [
    "##### 3. Will the gained insights help creating a positive business impact? \n",
    "Are there any insights that lead to negative growth? Justify with specific reason."
   ]
  },
  {
   "cell_type": "markdown",
   "metadata": {
    "id": "ey_0qi68phqO"
   },
   "source": [
    "Answer Here"
   ]
  },
  {
   "cell_type": "markdown",
   "metadata": {
    "id": "YJ55k-q6phqO"
   },
   "source": [
    "#### Chart - 9"
   ]
  },
  {
   "cell_type": "code",
   "execution_count": 21,
   "metadata": {
    "id": "B2aS4O1ophqO"
   },
   "outputs": [],
   "source": [
    "# Chart - 9 visualization code"
   ]
  },
  {
   "cell_type": "markdown",
   "metadata": {
    "id": "gCFgpxoyphqP"
   },
   "source": [
    "##### 1. Why did you pick the specific chart?"
   ]
  },
  {
   "cell_type": "markdown",
   "metadata": {
    "id": "TVxDimi2phqP"
   },
   "source": [
    "Answer Here."
   ]
  },
  {
   "cell_type": "markdown",
   "metadata": {
    "id": "OVtJsKN_phqQ"
   },
   "source": [
    "##### 2. What is/are the insight(s) found from the chart?"
   ]
  },
  {
   "cell_type": "markdown",
   "metadata": {
    "id": "ngGi97qjphqQ"
   },
   "source": [
    "Answer Here"
   ]
  },
  {
   "cell_type": "markdown",
   "metadata": {
    "id": "lssrdh5qphqQ"
   },
   "source": [
    "##### 3. Will the gained insights help creating a positive business impact? \n",
    "Are there any insights that lead to negative growth? Justify with specific reason."
   ]
  },
  {
   "cell_type": "markdown",
   "metadata": {
    "id": "tBpY5ekJphqQ"
   },
   "source": [
    "Answer Here"
   ]
  },
  {
   "cell_type": "markdown",
   "metadata": {
    "id": "U2RJ9gkRphqQ"
   },
   "source": [
    "#### Chart - 10"
   ]
  },
  {
   "cell_type": "code",
   "execution_count": 22,
   "metadata": {
    "id": "GM7a4YP4phqQ"
   },
   "outputs": [],
   "source": [
    "# Chart - 10 visualization code"
   ]
  },
  {
   "cell_type": "markdown",
   "metadata": {
    "id": "1M8mcRywphqQ"
   },
   "source": [
    "##### 1. Why did you pick the specific chart?"
   ]
  },
  {
   "cell_type": "markdown",
   "metadata": {
    "id": "8agQvks0phqQ"
   },
   "source": [
    "Answer Here."
   ]
  },
  {
   "cell_type": "markdown",
   "metadata": {
    "id": "tgIPom80phqQ"
   },
   "source": [
    "##### 2. What is/are the insight(s) found from the chart?"
   ]
  },
  {
   "cell_type": "markdown",
   "metadata": {
    "id": "Qp13pnNzphqQ"
   },
   "source": [
    "Answer Here"
   ]
  },
  {
   "cell_type": "markdown",
   "metadata": {
    "id": "JMzcOPDDphqR"
   },
   "source": [
    "##### 3. Will the gained insights help creating a positive business impact? \n",
    "Are there any insights that lead to negative growth? Justify with specific reason."
   ]
  },
  {
   "cell_type": "markdown",
   "metadata": {
    "id": "R4Ka1PC2phqR"
   },
   "source": [
    "Answer Here"
   ]
  },
  {
   "cell_type": "markdown",
   "metadata": {
    "id": "x-EpHcCOp1ci"
   },
   "source": [
    "#### Chart - 11"
   ]
  },
  {
   "cell_type": "code",
   "execution_count": 23,
   "metadata": {
    "id": "mAQTIvtqp1cj"
   },
   "outputs": [],
   "source": [
    "# Chart - 11 visualization code"
   ]
  },
  {
   "cell_type": "markdown",
   "metadata": {
    "id": "X_VqEhTip1ck"
   },
   "source": [
    "##### 1. Why did you pick the specific chart?"
   ]
  },
  {
   "cell_type": "markdown",
   "metadata": {
    "id": "-vsMzt_np1ck"
   },
   "source": [
    "Answer Here."
   ]
  },
  {
   "cell_type": "markdown",
   "metadata": {
    "id": "8zGJKyg5p1ck"
   },
   "source": [
    "##### 2. What is/are the insight(s) found from the chart?"
   ]
  },
  {
   "cell_type": "markdown",
   "metadata": {
    "id": "ZYdMsrqVp1ck"
   },
   "source": [
    "Answer Here"
   ]
  },
  {
   "cell_type": "markdown",
   "metadata": {
    "id": "PVzmfK_Ep1ck"
   },
   "source": [
    "##### 3. Will the gained insights help creating a positive business impact? \n",
    "Are there any insights that lead to negative growth? Justify with specific reason."
   ]
  },
  {
   "cell_type": "markdown",
   "metadata": {
    "id": "druuKYZpp1ck"
   },
   "source": [
    "Answer Here"
   ]
  },
  {
   "cell_type": "markdown",
   "metadata": {
    "id": "n3dbpmDWp1ck"
   },
   "source": [
    "#### Chart - 12"
   ]
  },
  {
   "cell_type": "code",
   "execution_count": 24,
   "metadata": {
    "id": "bwevp1tKp1ck"
   },
   "outputs": [],
   "source": [
    "# Chart - 12 visualization code"
   ]
  },
  {
   "cell_type": "markdown",
   "metadata": {
    "id": "ylSl6qgtp1ck"
   },
   "source": [
    "##### 1. Why did you pick the specific chart?"
   ]
  },
  {
   "cell_type": "markdown",
   "metadata": {
    "id": "m2xqNkiQp1ck"
   },
   "source": [
    "Answer Here."
   ]
  },
  {
   "cell_type": "markdown",
   "metadata": {
    "id": "ZWILFDl5p1ck"
   },
   "source": [
    "##### 2. What is/are the insight(s) found from the chart?"
   ]
  },
  {
   "cell_type": "markdown",
   "metadata": {
    "id": "x-lUsV2mp1ck"
   },
   "source": [
    "Answer Here"
   ]
  },
  {
   "cell_type": "markdown",
   "metadata": {
    "id": "M7G43BXep1ck"
   },
   "source": [
    "##### 3. Will the gained insights help creating a positive business impact? \n",
    "Are there any insights that lead to negative growth? Justify with specific reason."
   ]
  },
  {
   "cell_type": "markdown",
   "metadata": {
    "id": "5wwDJXsLp1cl"
   },
   "source": [
    "Answer Here"
   ]
  },
  {
   "cell_type": "markdown",
   "metadata": {
    "id": "Ag9LCva-p1cl"
   },
   "source": [
    "#### Chart - 13"
   ]
  },
  {
   "cell_type": "code",
   "execution_count": 25,
   "metadata": {
    "id": "EUfxeq9-p1cl"
   },
   "outputs": [],
   "source": [
    "# Chart - 13 visualization code"
   ]
  },
  {
   "cell_type": "markdown",
   "metadata": {
    "id": "E6MkPsBcp1cl"
   },
   "source": [
    "##### 1. Why did you pick the specific chart?"
   ]
  },
  {
   "cell_type": "markdown",
   "metadata": {
    "id": "V22bRsFWp1cl"
   },
   "source": [
    "Answer Here."
   ]
  },
  {
   "cell_type": "markdown",
   "metadata": {
    "id": "2cELzS2fp1cl"
   },
   "source": [
    "##### 2. What is/are the insight(s) found from the chart?"
   ]
  },
  {
   "cell_type": "markdown",
   "metadata": {
    "id": "ozQPc2_Ip1cl"
   },
   "source": [
    "Answer Here"
   ]
  },
  {
   "cell_type": "markdown",
   "metadata": {
    "id": "3MPXvC8up1cl"
   },
   "source": [
    "##### 3. Will the gained insights help creating a positive business impact? \n",
    "Are there any insights that lead to negative growth? Justify with specific reason."
   ]
  },
  {
   "cell_type": "markdown",
   "metadata": {
    "id": "GL8l1tdLp1cl"
   },
   "source": [
    "Answer Here"
   ]
  },
  {
   "cell_type": "markdown",
   "metadata": {
    "id": "NC_X3p0fY2L0"
   },
   "source": [
    "#### Chart - 14 - Correlation Heatmap"
   ]
  },
  {
   "cell_type": "code",
   "execution_count": 26,
   "metadata": {
    "id": "xyC9zolEZNRQ"
   },
   "outputs": [],
   "source": [
    "# Correlation Heatmap visualization code"
   ]
  },
  {
   "cell_type": "markdown",
   "metadata": {
    "id": "UV0SzAkaZNRQ"
   },
   "source": [
    "##### 1. Why did you pick the specific chart?"
   ]
  },
  {
   "cell_type": "markdown",
   "metadata": {
    "id": "DVPuT8LYZNRQ"
   },
   "source": [
    "Answer Here."
   ]
  },
  {
   "cell_type": "markdown",
   "metadata": {
    "id": "YPEH6qLeZNRQ"
   },
   "source": [
    "##### 2. What is/are the insight(s) found from the chart?"
   ]
  },
  {
   "cell_type": "markdown",
   "metadata": {
    "id": "bfSqtnDqZNRR"
   },
   "source": [
    "Answer Here"
   ]
  },
  {
   "cell_type": "markdown",
   "metadata": {
    "id": "q29F0dvdveiT"
   },
   "source": [
    "#### Chart - 15 - Pair Plot "
   ]
  },
  {
   "cell_type": "code",
   "execution_count": 27,
   "metadata": {
    "id": "o58-TEIhveiU"
   },
   "outputs": [],
   "source": [
    "# Pair Plot visualization code"
   ]
  },
  {
   "cell_type": "markdown",
   "metadata": {
    "id": "EXh0U9oCveiU"
   },
   "source": [
    "##### 1. Why did you pick the specific chart?"
   ]
  },
  {
   "cell_type": "markdown",
   "metadata": {
    "id": "eMmPjTByveiU"
   },
   "source": [
    "Answer Here."
   ]
  },
  {
   "cell_type": "markdown",
   "metadata": {
    "id": "22aHeOlLveiV"
   },
   "source": [
    "##### 2. What is/are the insight(s) found from the chart?"
   ]
  },
  {
   "cell_type": "markdown",
   "metadata": {
    "id": "uPQ8RGwHveiV"
   },
   "source": [
    "Answer Here"
   ]
  },
  {
   "cell_type": "markdown",
   "metadata": {
    "id": "JcMwzZxoAimU"
   },
   "source": [
    "## **5. Solution to Business Objective**"
   ]
  },
  {
   "cell_type": "markdown",
   "metadata": {
    "id": "8G2x9gOozGDZ"
   },
   "source": [
    "#### What do you suggest the client to achieve Business Objective ? \n",
    "Explain Briefly."
   ]
  },
  {
   "cell_type": "markdown",
   "metadata": {
    "id": "pASKb0qOza21"
   },
   "source": [
    "Answer Here."
   ]
  },
  {
   "cell_type": "markdown",
   "metadata": {
    "id": "gCX9965dhzqZ"
   },
   "source": [
    "# **Conclusion**"
   ]
  },
  {
   "cell_type": "markdown",
   "metadata": {
    "id": "Fjb1IsQkh3yE"
   },
   "source": [
    "Write the conclusion here."
   ]
  },
  {
   "cell_type": "markdown",
   "metadata": {
    "id": "gIfDvo9L0UH2"
   },
   "source": [
    "### ***Hurrah! You have successfully completed your EDA Capstone Project !!!***"
   ]
  }
 ],
 "metadata": {
  "colab": {
   "collapsed_sections": [
    "vncDsAP0Gaoa",
    "FJNUwmbgGyua",
    "w6K7xa23Elo4",
    "yQaldy8SH6Dl",
    "PH-0ReGfmX4f",
    "mDgbUHAGgjLW",
    "O_i_v8NEhb9l",
    "HhfV-JJviCcP",
    "Y3lxredqlCYt",
    "3RnN4peoiCZX",
    "x71ZqKXriCWQ",
    "7hBIi_osiCS2",
    "JlHwYmJAmNHm",
    "35m5QtbWiB9F",
    "PoPl-ycgm1ru",
    "H0kj-8xxnORC",
    "nA9Y7ga8ng1Z",
    "PBTbrJXOngz2",
    "u3PMJOP6ngxN",
    "dauF4eBmngu3",
    "bKJF3rekwFvQ",
    "MSa1f5Uengrz",
    "GF8Ens_Soomf",
    "0wOQAZs5pc--",
    "K5QZ13OEpz2H",
    "lQ7QKXXCp7Bj",
    "448CDAPjqfQr",
    "KSlN3yHqYklG",
    "t6dVpIINYklI",
    "ijmpgYnKYklI",
    "-JiQyfWJYklI",
    "EM7whBJCYoAo",
    "fge-S5ZAYoAp",
    "85gYPyotYoAp",
    "RoGjAbkUYoAp",
    "4Of9eVA-YrdM",
    "iky9q4vBYrdO",
    "F6T5p64dYrdO",
    "y-Ehk30pYrdP",
    "bamQiAODYuh1",
    "QHF8YVU7Yuh3",
    "GwzvFGzlYuh3",
    "qYpmQ266Yuh3",
    "OH-pJp9IphqM",
    "bbFf2-_FphqN",
    "_ouA3fa0phqN",
    "Seke61FWphqN",
    "PIIx-8_IphqN",
    "t27r6nlMphqO",
    "r2jJGEOYphqO",
    "b0JNsNcRphqO",
    "BZR9WyysphqO",
    "jj7wYXLtphqO",
    "eZrbJ2SmphqO",
    "rFu4xreNphqO",
    "YJ55k-q6phqO",
    "gCFgpxoyphqP",
    "OVtJsKN_phqQ",
    "lssrdh5qphqQ",
    "U2RJ9gkRphqQ",
    "1M8mcRywphqQ",
    "tgIPom80phqQ",
    "JMzcOPDDphqR",
    "x-EpHcCOp1ci",
    "X_VqEhTip1ck",
    "8zGJKyg5p1ck",
    "PVzmfK_Ep1ck",
    "n3dbpmDWp1ck",
    "ylSl6qgtp1ck",
    "ZWILFDl5p1ck",
    "M7G43BXep1ck",
    "Ag9LCva-p1cl",
    "E6MkPsBcp1cl",
    "2cELzS2fp1cl",
    "3MPXvC8up1cl",
    "NC_X3p0fY2L0",
    "UV0SzAkaZNRQ",
    "YPEH6qLeZNRQ",
    "q29F0dvdveiT",
    "EXh0U9oCveiU",
    "22aHeOlLveiV",
    "JcMwzZxoAimU",
    "8G2x9gOozGDZ",
    "gCX9965dhzqZ",
    "gIfDvo9L0UH2"
   ],
   "private_outputs": true,
   "provenance": []
  },
  "kernelspec": {
   "display_name": "Python 3 (ipykernel)",
   "language": "python",
   "name": "python3"
  },
  "language_info": {
   "codemirror_mode": {
    "name": "ipython",
    "version": 3
   },
   "file_extension": ".py",
   "mimetype": "text/x-python",
   "name": "python",
   "nbconvert_exporter": "python",
   "pygments_lexer": "ipython3",
   "version": "3.11.4"
  },
  "widgets": {
   "application/vnd.jupyter.widget-state+json": {
    "state": {},
    "version_major": 2,
    "version_minor": 0
   }
  }
 },
 "nbformat": 4,
 "nbformat_minor": 4
}
